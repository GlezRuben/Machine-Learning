{
  "nbformat": 4,
  "nbformat_minor": 0,
  "metadata": {
    "colab": {
      "provenance": [],
      "authorship_tag": "ABX9TyNZWXpmbx4hhaT2eQTH2+c5",
      "include_colab_link": true
    },
    "kernelspec": {
      "name": "python3",
      "display_name": "Python 3"
    },
    "language_info": {
      "name": "python"
    }
  },
  "cells": [
    {
      "cell_type": "markdown",
      "metadata": {
        "id": "view-in-github",
        "colab_type": "text"
      },
      "source": [
        "<a href=\"https://colab.research.google.com/github/GlezRuben/Machine-Learning/blob/main/DataScienceEcosystem.ipynb\" target=\"_parent\"><img src=\"https://colab.research.google.com/assets/colab-badge.svg\" alt=\"Open In Colab\"/></a>"
      ]
    },
    {
      "cell_type": "markdown",
      "source": [
        "<h1>Data Science Tools and Ecosystems</h1>"
      ],
      "metadata": {
        "id": "A36vi4EAb61P"
      }
    },
    {
      "cell_type": "markdown",
      "source": [
        "In this notebook, Data Science Tools and Ecosystem are summarized."
      ],
      "metadata": {
        "id": "czBZbSqccd2T"
      }
    },
    {
      "cell_type": "markdown",
      "source": [
        "Objectives:\n",
        "<ul>\n",
        "<li>List popular languages for Data Science</li>\n",
        "<li>List some of the popular languages for Data Science</li>\n",
        "<li>Give a few examples of evaluationg arithmetic expressions in Python</li>\n",
        "</ul>\n",
        "\n",
        "<h2>Author:</h2>\n",
        "Ruben González"
      ],
      "metadata": {
        "id": "0x3BBw00g2tX"
      }
    },
    {
      "cell_type": "markdown",
      "source": [
        "Some of the popular languages that Data Scientists use are:\n",
        "<ol>\n",
        "<li>Python</li>\n",
        "<li>R</li>\n",
        "<li>SQL</li>\n",
        "</ol>"
      ],
      "metadata": {
        "id": "8P37GQmtcuN1"
      }
    },
    {
      "cell_type": "markdown",
      "source": [
        "Some of the commonly used libraries used by Data Scientists include:\n",
        "<ol>\n",
        "<li>Numpy</li>\n",
        "<li>Pandas</li>\n",
        "<li>Matplotlib</li>\n",
        "</ol>"
      ],
      "metadata": {
        "id": "1k1NqRJwdb6y"
      }
    },
    {
      "cell_type": "markdown",
      "source": [
        "| Data Science Tools |\n",
        "|:--------:|\n",
        "|  Jupyter Notebooks   |\n",
        "|  RStudio   |\n",
        "|  Apache Zeppelin   |"
      ],
      "metadata": {
        "id": "WkTPDx4Kd6Rb"
      }
    },
    {
      "cell_type": "markdown",
      "source": [
        "<h3>Below are a few examples of evaluationg arithmetic expressions in Python.</h3>"
      ],
      "metadata": {
        "id": "KCAl4kVHesJH"
      }
    },
    {
      "cell_type": "code",
      "source": [
        "# This is a simple arithmetic expression to multiply then add integers:\n",
        "(3*4)+5"
      ],
      "metadata": {
        "colab": {
          "base_uri": "https://localhost:8080/"
        },
        "id": "C_buBMlIf0Wm",
        "outputId": "4cf2c7fd-409b-443d-ea5a-7fa964fee35c"
      },
      "execution_count": 1,
      "outputs": [
        {
          "output_type": "execute_result",
          "data": {
            "text/plain": [
              "17"
            ]
          },
          "metadata": {},
          "execution_count": 1
        }
      ]
    },
    {
      "cell_type": "code",
      "source": [
        "# This will convert 200 minutes to hours by dividing by 60:\n",
        "200/60"
      ],
      "metadata": {
        "colab": {
          "base_uri": "https://localhost:8080/"
        },
        "id": "zuKKyKT9f_2x",
        "outputId": "b272f6ce-ca3f-4897-fe20-cee8fcfed2e8"
      },
      "execution_count": 2,
      "outputs": [
        {
          "output_type": "execute_result",
          "data": {
            "text/plain": [
              "3.3333333333333335"
            ]
          },
          "metadata": {},
          "execution_count": 2
        }
      ]
    },
    {
      "cell_type": "markdown",
      "source": [],
      "metadata": {
        "id": "_Q0pfVcUgloG"
      }
    }
  ]
}